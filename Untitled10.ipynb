{
  "nbformat": 4,
  "nbformat_minor": 0,
  "metadata": {
    "colab": {
      "provenance": [],
      "authorship_tag": "ABX9TyPEnUtsMjmKxRoRDkQdPKSB",
      "include_colab_link": true
    },
    "kernelspec": {
      "name": "python3",
      "display_name": "Python 3"
    },
    "language_info": {
      "name": "python"
    }
  },
  "cells": [
    {
      "cell_type": "markdown",
      "metadata": {
        "id": "view-in-github",
        "colab_type": "text"
      },
      "source": [
        "<a href=\"https://colab.research.google.com/github/PotlachervuSrilatha/Apache-spark-and-hadoop/blob/main/Untitled10.ipynb\" target=\"_parent\"><img src=\"https://colab.research.google.com/assets/colab-badge.svg\" alt=\"Open In Colab\"/></a>"
      ]
    },
    {
      "cell_type": "code",
      "source": [
        "print()"
      ],
      "metadata": {
        "colab": {
          "base_uri": "https://localhost:8080/"
        },
        "id": "u_wBQbv48Rji",
        "outputId": "7bca714c-32d7-48a9-c25c-ee3974d44f0c"
      },
      "execution_count": null,
      "outputs": [
        {
          "output_type": "stream",
          "name": "stdout",
          "text": [
            "\n"
          ]
        }
      ]
    },
    {
      "cell_type": "code",
      "source": [
        "print(\"My name is srilatha potlachervu\")"
      ],
      "metadata": {
        "colab": {
          "base_uri": "https://localhost:8080/"
        },
        "id": "7tSO5lGo8bYD",
        "outputId": "e395f105-69b2-4225-cf80-38e684655639"
      },
      "execution_count": null,
      "outputs": [
        {
          "output_type": "stream",
          "name": "stdout",
          "text": [
            "My name is srilatha potlachervu\n"
          ]
        }
      ]
    },
    {
      "cell_type": "code",
      "source": [
        "print(10+70)"
      ],
      "metadata": {
        "colab": {
          "base_uri": "https://localhost:8080/"
        },
        "id": "87Zy11N78h1t",
        "outputId": "1dfd19fa-a0a9-465c-cfbb-f2f749b663da"
      },
      "execution_count": null,
      "outputs": [
        {
          "output_type": "stream",
          "name": "stdout",
          "text": [
            "80\n"
          ]
        }
      ]
    },
    {
      "cell_type": "code",
      "source": [
        "print(20-89)"
      ],
      "metadata": {
        "colab": {
          "base_uri": "https://localhost:8080/"
        },
        "id": "J4WpSenO8pEM",
        "outputId": "ec16f1a7-2731-4af8-c63f-b872ae6876b8"
      },
      "execution_count": null,
      "outputs": [
        {
          "output_type": "stream",
          "name": "stdout",
          "text": [
            "-69\n"
          ]
        }
      ]
    },
    {
      "cell_type": "code",
      "source": [
        "print(20*67)"
      ],
      "metadata": {
        "colab": {
          "base_uri": "https://localhost:8080/"
        },
        "id": "3QHMT3038uud",
        "outputId": "6b1cceef-5a75-4042-c69f-60407524e0fe"
      },
      "execution_count": null,
      "outputs": [
        {
          "output_type": "stream",
          "name": "stdout",
          "text": [
            "1340\n"
          ]
        }
      ]
    },
    {
      "cell_type": "code",
      "source": [
        "print(89*70)"
      ],
      "metadata": {
        "colab": {
          "base_uri": "https://localhost:8080/"
        },
        "id": "7Y5pHqyx8xBV",
        "outputId": "cfc1c64c-e574-4e61-ef98-6fd1d5903fa9"
      },
      "execution_count": null,
      "outputs": [
        {
          "output_type": "stream",
          "name": "stdout",
          "text": [
            "6230\n"
          ]
        }
      ]
    },
    {
      "cell_type": "code",
      "source": [
        "print(109//8)"
      ],
      "metadata": {
        "colab": {
          "base_uri": "https://localhost:8080/"
        },
        "id": "aJ5R2tpV9NXj",
        "outputId": "6a2d6f7c-4dc6-4cf8-c2ce-2da56ba8aff1"
      },
      "execution_count": null,
      "outputs": [
        {
          "output_type": "stream",
          "name": "stdout",
          "text": [
            "13\n"
          ]
        }
      ]
    },
    {
      "cell_type": "code",
      "source": [
        "print(\"Sri\",\"Latha\")"
      ],
      "metadata": {
        "colab": {
          "base_uri": "https://localhost:8080/"
        },
        "id": "uxsOPXFp9fWa",
        "outputId": "5310346e-ebb8-4311-be0a-92146088f384"
      },
      "execution_count": null,
      "outputs": [
        {
          "output_type": "stream",
          "name": "stdout",
          "text": [
            "Sri Latha\n"
          ]
        }
      ]
    },
    {
      "cell_type": "code",
      "source": [
        "print(\"Sri\",\"/n\",\"Latha\")"
      ],
      "metadata": {
        "colab": {
          "base_uri": "https://localhost:8080/"
        },
        "id": "W2JbyF9G9kah",
        "outputId": "3f787859-fef5-487e-fc3e-fcf9788a1696"
      },
      "execution_count": null,
      "outputs": [
        {
          "output_type": "stream",
          "name": "stdout",
          "text": [
            "Sri /n Latha\n"
          ]
        }
      ]
    },
    {
      "cell_type": "code",
      "source": [
        "print(\"This is Srilatha \\n I am from Hyderabad \") #/n-Nex tline"
      ],
      "metadata": {
        "colab": {
          "base_uri": "https://localhost:8080/"
        },
        "id": "lEf-W-lt9rSa",
        "outputId": "4f5081f3-b10a-4d0c-bbc0-14aa83255a0a"
      },
      "execution_count": null,
      "outputs": [
        {
          "output_type": "stream",
          "name": "stdout",
          "text": [
            "This is Srilatha \n",
            " I am from Hyderabad \n"
          ]
        }
      ]
    },
    {
      "cell_type": "code",
      "source": [
        "print(\"This is Srilatha \\t I am from Hyderabad \") #"
      ],
      "metadata": {
        "colab": {
          "base_uri": "https://localhost:8080/"
        },
        "id": "xs-pQf899vmC",
        "outputId": "99f7e158-6952-42ff-be0a-5063e46b95d1"
      },
      "execution_count": null,
      "outputs": [
        {
          "output_type": "stream",
          "name": "stdout",
          "text": [
            "This is Srilatha \t I am from Hyderabad \n"
          ]
        }
      ]
    },
    {
      "cell_type": "code",
      "source": [],
      "metadata": {
        "id": "l9f-a7gt9yKZ"
      },
      "execution_count": null,
      "outputs": []
    }
  ]
}