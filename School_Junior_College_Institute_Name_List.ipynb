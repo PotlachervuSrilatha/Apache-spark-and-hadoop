{
  "nbformat": 4,
  "nbformat_minor": 0,
  "metadata": {
    "colab": {
      "provenance": [],
      "authorship_tag": "ABX9TyOCiFxxd5T434Kih2j+OZjU",
      "include_colab_link": true
    },
    "kernelspec": {
      "name": "python3",
      "display_name": "Python 3"
    },
    "language_info": {
      "name": "python"
    }
  },
  "cells": [
    {
      "cell_type": "markdown",
      "metadata": {
        "id": "view-in-github",
        "colab_type": "text"
      },
      "source": [
        "<a href=\"https://colab.research.google.com/github/PotlachervuSrilatha/Apache-spark-and-hadoop/blob/main/School_Junior_College_Institute_Name_List.ipynb\" target=\"_parent\"><img src=\"https://colab.research.google.com/assets/colab-badge.svg\" alt=\"Open In Colab\"/></a>"
      ]
    },
    {
      "cell_type": "code",
      "execution_count": 22,
      "metadata": {
        "id": "TRN1Nh02ZrhN",
        "colab": {
          "base_uri": "https://localhost:8080/"
        },
        "outputId": "546c88ac-b03a-4d94-b1c4-3b778bdac780"
      },
      "outputs": [
        {
          "output_type": "stream",
          "name": "stdout",
          "text": [
            "                        Name                     Location  Contact_Number  \\\n",
            "0  Delhi Public School (DPS)  Various cities across India   040-2773-7295   \n",
            "1       St. Xavier's College          Mumbai, Maharashtra  91-22-22620661   \n",
            "2             Loyola College           Chennai Tamil Nadu   044 2817 8200   \n",
            "\n",
            "                          Website  \n",
            "0      https://www.dpsfamily.org/  \n",
            "1       https://xaviers.edu/main/  \n",
            "2  https://www.loyolacollege.edu/  \n"
          ]
        }
      ],
      "source": [
        "import requests\n",
        "from bs4 import BeautifulSoup\n",
        "import pandas as pd\n",
        "\n",
        "# Replace this URL with the actual website you want to scrape\n",
        "url = 'https://collegedunia.com/india-colleges'\n",
        "\n",
        "# Send a GET request to the URL\n",
        "response = requests.get(url)\n",
        "\n",
        "# Check if the request was successful (status code 200)\n",
        "if response.status_code == 200:\n",
        "    # Parse the HTML content of the page\n",
        "    soup = BeautifulSoup(response.text, 'html.parser')\n",
        "\n",
        "    # Find the relevant elements on the page and extract data\n",
        "    # Replace these lines with the actual HTML elements of the page you want to scrape\n",
        "    names = [element.text for element in soup.find_all('h3', class_='bolg_heading')]\n",
        "    locations = [element.text for element in soup.find_all('p', class_='bolg_heading')]\n",
        "    contact_numbers = [element.text for element in soup.find_all('span', class_='col-md-3 col-sm-4 col-xs-12')]\n",
        "    website_urls = [element['href'] for element in soup.find_all('a', class_='college-link')]\n",
        "\n",
        "    data = {\n",
        "        'College Name': names,\n",
        "        'Location': locations,\n",
        "        'Contact Number': contact_numbers,\n",
        "        'College Website URL': website_urls\n",
        "    }\n",
        "]\n",
        "df = pd.DataFrame(data)\n",
        "\n",
        "    # Display the DataFrame or save it to an Excel file\n",
        "print(df.head(50))  # Display the top 50 colleges\n",
        "df.head(50).to_excel('top_junior_colleges_in_india.xlsx', index=False)\n",
        "\n"
      ]
    },
    {
      "cell_type": "code",
      "source": [
        "\n",
        "    df = pd.DataFrame(data)\n",
        "\n",
        "    # Display the DataFrame or save it to an Excel file\n",
        "    print(df.head(50))  # Display the top 50 colleges\n",
        "    df.head(50).to_excel('top_junior_colleges_in_india.xlsx', index=False)\n"
      ],
      "metadata": {
        "colab": {
          "base_uri": "https://localhost:8080/"
        },
        "id": "OLVuEMF594Et",
        "outputId": "792fbe6a-3dc3-4b11-b919-d52983f8feda"
      },
      "execution_count": null,
      "outputs": [
        {
          "output_type": "stream",
          "name": "stdout",
          "text": [
            "Empty DataFrame\n",
            "Columns: [College Name, Location, Contact Number, College Website URL]\n",
            "Index: []\n"
          ]
        }
      ]
    },
    {
      "cell_type": "code",
      "source": [],
      "metadata": {
        "id": "qfbHhW8Jk3T3"
      },
      "execution_count": null,
      "outputs": []
    },
    {
      "cell_type": "code",
      "source": [],
      "metadata": {
        "id": "CjZmpXgWao2C"
      },
      "execution_count": null,
      "outputs": []
    },
    {
      "cell_type": "code",
      "source": [
        "import pandas as pd\n",
        "data =[\n",
        "\n",
        "    {\"Name\": \"Delhi Public School (DPS)\",\"Location\": \"Various cities across India\",\"Contact_Number\":\"040-2773-7295\",\"Website\": \"https://www.dpsfamily.org/\"},\n",
        "    {\"Name\": \"St. Xavier's College\",\"Location\": \"Mumbai, Maharashtra\", \"Contact_Number\":\"91-22-22620661\" ,\"Website\": \"https://xaviers.edu/main/\"},\n",
        "    {\"Name\": \"Loyola College\",\"Location\": \"Chennai Tamil Nadu\", \"Contact_Number\":\"044 2817 8200\", \"Website\": \"https://www.loyolacollege.edu/\"}\n",
        "\n",
        "]\n",
        "df = pd.DataFrame(data)\n",
        "\n",
        "\n",
        "# Display the DataFrame or save it to an Excel file\n",
        "top_colleges_df = df.head(50)  # Select the top 50 colleges\n",
        "\n",
        "# Save to Excel file without using the save method\n",
        "top_colleges_df.to_excel('top_junior_colleges_in_india.xlsx', index=False)\n",
        "\n",
        "print(\"Excel file saved successfully.\")\n"
      ],
      "metadata": {
        "colab": {
          "base_uri": "https://localhost:8080/"
        },
        "id": "DvmkKiT2aoyq",
        "outputId": "0f43ac9b-3309-4667-dfed-9e4b34938ca5"
      },
      "execution_count": 23,
      "outputs": [
        {
          "output_type": "stream",
          "name": "stdout",
          "text": [
            "Excel file saved successfully.\n"
          ]
        }
      ]
    },
    {
      "cell_type": "code",
      "source": [
        "# # writer = pd.ExcelWriter('TopJuniorColleges.xlsx')\n",
        "# # df.to_excel(writer, sheet_name='Sheet1', index=False)\n",
        "# # writer.save()\n"
      ],
      "metadata": {
        "id": "e6jNBneCaon9"
      },
      "execution_count": null,
      "outputs": []
    },
    {
      "cell_type": "code",
      "source": [],
      "metadata": {
        "id": "M4mRpXDMaojz"
      },
      "execution_count": null,
      "outputs": []
    },
    {
      "cell_type": "code",
      "source": [
        "\n",
        "\n"
      ],
      "metadata": {
        "id": "BhNlLHQsaoZl"
      },
      "execution_count": null,
      "outputs": []
    },
    {
      "cell_type": "code",
      "source": [
        " {\"Name\": \"\", \"Location\": \"\",\"Contact_Number\":, \"Website\": \"\"},\n",
        "    {\"Name\": \"\", \"Location\": \"\",\"Contact_Number\":, \"Website\": \"\"},\n",
        "    {\"Name\": \"\", \"Location\": \"\",\"Contact_Number\":, \"Website\": \"\"},\n",
        "    {\"Name\": \"\", \"Location\": \"\",\"Contact_Number\":, \"Website\": \"\"},\n",
        "    {\"Name\": \"\", \"Location\": \"\",\"Contact_Number\":, \"Website\": \"\"},\n",
        "    {\"Name\": \"\", \"Location\": \"\",\"Contact_Number\":, \"Website\": \"\"},\n",
        "    {\"Name\": \"\", \"Location\": \"\",\"Contact_Number\":, \"Website\": \"\"},\n",
        "    {\"Name\": \"\", \"Location\": \"\",\"Contact_Number\":, \"Website\": \"\"},\n",
        "    {\"Name\": \"\", \"Location\": \"\",\"Contact_Number\":, \"Website\": \"\"},\n",
        "    {\"Name\": \"\", \"Location\": \"\",\"Contact_Number\":, \"Website\": \"\"},\n",
        "    {\"Name\": \"\", \"Location\": \"\",\"Contact_Number\":, \"Website\": \"\"},\n",
        "    {\"Name\": \"\", \"Location\": \"\",\"Contact_Number\":, \"Website\": \"\"},\n",
        "    {\"Name\": \"\", \"Location\": \"\",\"Contact_Number\":, \"Website\": \"\"},\n",
        "    {\"Name\": \"\", \"Location\": \"\",\"Contact_Number\":, \"Website\": \"\"},\n",
        "    {\"Name\": \"\", \"Location\": \"\",\"Contact_Number\":, \"Website\": \"\"},\n",
        "\n"
      ],
      "metadata": {
        "id": "yR9uWq8b5Bvq"
      },
      "execution_count": null,
      "outputs": []
    },
    {
      "cell_type": "code",
      "source": [],
      "metadata": {
        "id": "PKy8ghJJIsyH"
      },
      "execution_count": null,
      "outputs": []
    }
  ]
}